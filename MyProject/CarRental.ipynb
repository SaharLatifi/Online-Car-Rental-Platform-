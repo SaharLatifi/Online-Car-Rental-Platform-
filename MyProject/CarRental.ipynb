{
 "cells": [
  {
   "cell_type": "code",
   "execution_count": 22,
   "id": "8362d7b2",
   "metadata": {},
   "outputs": [],
   "source": [
    "class customer:\n",
    "    pass\n",
    "\n",
    "class car:\n",
    "    #global car_index \n",
    "    #car_index = 1\n",
    "    global selected_brand \n",
    "    global selected_model\n",
    "    global selected_year\n",
    "    \n",
    "    # constructor: this is a type of function that gets executed implicitly while the object creation\n",
    "    \n",
    "    def __init__(self):\n",
    "        self.cars = list()\n",
    "        \n",
    "        \n",
    "    # status=1 : Car is available , 0 : Car is not available\n",
    "    # number_of_cars : the number of cars to add , default = 1 \n",
    "    def add_cars(self,make,model,year,price,numberofcars=1,status=1):\n",
    "        #global car_index \n",
    "\n",
    "        ## car_id calculates from 1 for each car object \n",
    "        if len(self.cars) == 0 :\n",
    "            car_id = 1\n",
    "        else:\n",
    "            car_id = max(self.cars,key=lambda item:item[0]) [0] + 1 \n",
    "    \n",
    "        for i in range(car_id , numberofcars+car_id):\n",
    "        \n",
    "       # for i in range(numberofcars):\n",
    "            self.cars.append((i,make,model,year,price,status))   \n",
    "       #     car_index = car_index + 1\n",
    "    \n",
    "    \n",
    "    ## Display all cars\n",
    "    def display_all_cars(self):\n",
    "        return self.cars\n",
    "    \n",
    "    ## Display those which are available - not rented\n",
    "    def display_available_cars(self):\n",
    "        return list(filter(lambda item:item[5]==1,self.cars))\n",
    "        \n",
    "       \n",
    "    def let_user_pick(self,item_to_pick):\n",
    "        global selected_brand \n",
    "        global selected_model\n",
    "        global selected_year\n",
    "        # match is supported in Python 10, so I need to update Python in order to use it\n",
    "        #match item_to_pick:\n",
    "        #   case 'make':\n",
    "        #       print(\"make\")\n",
    "        #    case 'model':\n",
    "        #        print(\"model\")\n",
    "        #    case 'year':\n",
    "        #        print(\"year\")\n",
    "        if item_to_pick == 'make':\n",
    "            message = \"Which brand would you like to rent?\"\n",
    "            list_item = 1\n",
    "            list_of_available_cars_by_item = list((filter(lambda item:item[5]==1,self.cars)))\n",
    "            \n",
    "            \n",
    "        elif item_to_pick == 'model':\n",
    "            message = \"Which model would you like to rent?\"\n",
    "            list_item = 2\n",
    "            list_of_available_cars_by_item = list((filter(lambda item:item[5]==1 and item[1]==selected_brand ,self.cars)))\n",
    "\n",
    "        else:\n",
    "            message = (\"Please choose the year?\")\n",
    "            list_item = 3\n",
    "            list_of_available_cars_by_item = list((filter(lambda item:item[5]==1 and item[1]==selected_brand and item[2]==selected_model,self.cars)))\n",
    "   \n",
    "        print(message)\n",
    "          \n",
    "        list_of_available_cars = list((filter(lambda item:item[5]==1,self.cars)))\n",
    "        items_to_choose = set([item[list_item] for item in list_of_available_cars_by_item])\n",
    "         \n",
    "        for id,val in enumerate(items_to_choose):\n",
    "            print(\"{}.{}\".format(id,val))\n",
    "            \n",
    "        users_answer=999999   \n",
    "\n",
    "        while users_answer > len(items_to_choose)-1 or  users_answer < 0 :\n",
    "            users_answer = int(input(\"Please pick from the list: \"))\n",
    "\n",
    "        if item_to_pick == 'make':\n",
    "            selected_brand = list(items_to_choose)[users_answer]\n",
    "            \n",
    "        elif item_to_pick == 'model':\n",
    "            selected_model = list(items_to_choose)[users_answer]\n",
    "        else:\n",
    "            selected_year = list(items_to_choose)[users_answer]\n",
    "            \n",
    "       #print(list(items_to_choose)[users_answer])\n",
    "\n",
    "        \n",
    "        \n",
    "    def display_available_cars_for_rent(self):\n",
    "        import inquirer as iq\n",
    "        \n",
    "        questions = [iq.List('make' , message = \"Which brand would you like to rent?\" , choices=['22','33'])]\n",
    "        answers = iq.prompt(questions)\n",
    "        print(answers[\"make\"])\n",
    "        \n",
    "class rental_system:\n",
    "    pass\n",
    "\n",
    "class employee:\n",
    "    pass"
   ]
  },
  {
   "cell_type": "code",
   "execution_count": 23,
   "id": "e284d06d",
   "metadata": {},
   "outputs": [],
   "source": [
    "toyota = car()\n",
    "toyota.add_cars('Toyota','Lexux',2018,28000,1)\n",
    "toyota.add_cars('Toyota','Lexux',2019,32000,1)\n",
    "toyota.add_cars('Toyota','Lexux',2020,38000,1,3)\n",
    "toyota.add_cars('Toyota','Lexux',2021,40000,1,5)\n",
    "\n",
    "mazda = car()\n",
    "mazda.add_cars('mazda','mazda3',2022,28000,1)\n",
    "mazda.add_cars('mazda','mazda7',2023,45000,1,7)"
   ]
  },
  {
   "cell_type": "code",
   "execution_count": 24,
   "id": "16052fbc",
   "metadata": {},
   "outputs": [
    {
     "name": "stdout",
     "output_type": "stream",
     "text": [
      "Currently we have [(1, 'Toyota', 'Lexux', 2018, 28000, 1), (2, 'Toyota', 'Lexux', 2019, 32000, 1), (3, 'Toyota', 'Lexux', 2020, 38000, 1), (4, 'Toyota', 'Lexux', 2020, 38000, 1), (5, 'Toyota', 'Lexux', 2020, 38000, 1), (6, 'Toyota', 'Lexux', 2021, 40000, 1), (7, 'Toyota', 'Lexux', 2021, 40000, 1), (8, 'Toyota', 'Lexux', 2021, 40000, 1), (9, 'Toyota', 'Lexux', 2021, 40000, 1), (10, 'Toyota', 'Lexux', 2021, 40000, 1)] cars available to rent.\n"
     ]
    }
   ],
   "source": [
    "toyota.display_all_cars()\n",
    "toyota.display_available_cars()"
   ]
  },
  {
   "cell_type": "code",
   "execution_count": 8,
   "id": "d2b98f1f",
   "metadata": {},
   "outputs": [
    {
     "data": {
      "text/plain": [
       "10"
      ]
     },
     "execution_count": 8,
     "metadata": {},
     "output_type": "execute_result"
    }
   ],
   "source": [
    "len(toyota.cars)"
   ]
  },
  {
   "cell_type": "code",
   "execution_count": 19,
   "id": "18a66c16",
   "metadata": {},
   "outputs": [
    {
     "name": "stdout",
     "output_type": "stream",
     "text": [
      "Sorry! We don't have any cars availabale.\n"
     ]
    }
   ],
   "source": [
    "toyota1=car()\n",
    "toyota1.display_all_cars()\n",
    "toyota1.display_available_cars()"
   ]
  },
  {
   "cell_type": "code",
   "execution_count": null,
   "id": "2384c622",
   "metadata": {},
   "outputs": [],
   "source": []
  }
 ],
 "metadata": {
  "kernelspec": {
   "display_name": "Python 3 (ipykernel)",
   "language": "python",
   "name": "python3"
  },
  "language_info": {
   "codemirror_mode": {
    "name": "ipython",
    "version": 3
   },
   "file_extension": ".py",
   "mimetype": "text/x-python",
   "name": "python",
   "nbconvert_exporter": "python",
   "pygments_lexer": "ipython3",
   "version": "3.9.13"
  }
 },
 "nbformat": 4,
 "nbformat_minor": 5
}
