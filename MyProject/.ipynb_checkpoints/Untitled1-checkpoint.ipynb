{
 "cells": [
  {
   "cell_type": "code",
   "execution_count": 5,
   "id": "6f7872b2",
   "metadata": {},
   "outputs": [],
   "source": [
    "class customer:\n",
    "    pass\n",
    "\n",
    "class car:\n",
    "    \n",
    "    # constructor: this is a type of function that gets executed implicitly while the object creation\n",
    "    def __init__(self):\n",
    "        self.cars = list()\n",
    "        \n",
    "    def add_car(self,make,model,year,price,status):\n",
    "        #status=1 : Car is available , 0 : Car is not available\n",
    "        if len(self.cars) == 0 :\n",
    "            car_id = 1\n",
    "        else:\n",
    "            car_id = max(self.cars,key=lambda item:item[0]) [0] + 1 \n",
    "        self.cars.append((car_id,make,model,year,price,status))   \n",
    "\n",
    "        \n",
    "    def display_available_cars(self):\n",
    "        return self.cars\n",
    "    def display_available_cars(self):\n",
    "        return self.cars\n",
    "        \n",
    "class rental_system:\n",
    "    pass\n",
    "\n",
    "class employee:\n",
    "    pass"
   ]
  },
  {
   "cell_type": "code",
   "execution_count": 2,
   "id": "004a96b8",
   "metadata": {},
   "outputs": [],
   "source": [
    "toyota = car()\n",
    "toyota.add_car('Toyota','Lexux',2018,28000,1)\n",
    "toyota.add_car('Toyota','Lexux',2019,32000,1)\n",
    "toyota.add_car('Toyota','Lexux',2020,38000,1)\n",
    "toyota.add_car('Toyota','Lexux',2021,40000,1)"
   ]
  },
  {
   "cell_type": "code",
   "execution_count": 3,
   "id": "738a7cef",
   "metadata": {},
   "outputs": [
    {
     "data": {
      "text/plain": [
       "[(10, 'Toyota', 'Lexux', 2018, 28000),\n",
       " (12, 'Toyota', 'Lexux', 2019, 32000),\n",
       " (22, 'Toyota', 'Lexux', 2020, 38000),\n",
       " (32, 'Toyota', 'Lexux', 2021, 40000)]"
      ]
     },
     "execution_count": 3,
     "metadata": {},
     "output_type": "execute_result"
    }
   ],
   "source": [
    "toyota.display_available_cars()"
   ]
  },
  {
   "cell_type": "code",
   "execution_count": null,
   "id": "b0d4ccfb",
   "metadata": {},
   "outputs": [],
   "source": []
  }
 ],
 "metadata": {
  "kernelspec": {
   "display_name": "Python 3 (ipykernel)",
   "language": "python",
   "name": "python3"
  },
  "language_info": {
   "codemirror_mode": {
    "name": "ipython",
    "version": 3
   },
   "file_extension": ".py",
   "mimetype": "text/x-python",
   "name": "python",
   "nbconvert_exporter": "python",
   "pygments_lexer": "ipython3",
   "version": "3.9.13"
  }
 },
 "nbformat": 4,
 "nbformat_minor": 5
}
