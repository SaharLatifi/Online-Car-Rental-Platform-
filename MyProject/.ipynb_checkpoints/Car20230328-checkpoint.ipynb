{
 "cells": [
  {
   "cell_type": "code",
   "execution_count": 12,
   "id": "2a96f755",
   "metadata": {},
   "outputs": [],
   "source": [
    "class customer:\n",
    "    pass\n",
    "\n",
    "class car:\n",
    "    #global car_index \n",
    "    #car_index = 1\n",
    "    global selected_brand \n",
    "    global selected_model\n",
    "    global selected_year\n",
    "    \n",
    "    # constructor: this is a type of function that gets executed implicitly while the object creation\n",
    "    \n",
    "    def __init__(self):\n",
    "        self.cars = list()\n",
    "        \n",
    "        \n",
    "    # status=1 : Car is available , 0 : Car is not available\n",
    "    # number_of_cars : the number of cars to add , default = 1 \n",
    "    def add_cars(self,make,model,year,price,numberofcars=1,status=1):\n",
    "        #global car_index \n",
    "\n",
    "        ## car_id calculates from 1 for each car object \n",
    "        if len(self.cars) == 0 :\n",
    "            car_id = 1\n",
    "        else:\n",
    "            car_id = max(self.cars,key=lambda item:item[0]) [0] + 1 \n",
    "    \n",
    "        for i in range(car_id , numberofcars+car_id):\n",
    "        \n",
    "       # for i in range(numberofcars):\n",
    "            self.cars.append((i,make,model,year,price,status))   \n",
    "       #     car_index = car_index + 1\n",
    "    \n",
    "    \n",
    "    ## Display all cars\n",
    "    def display_all_cars(self):\n",
    "        return self.cars\n",
    "    \n",
    "    ## Display those which are available - not rented\n",
    "    def display_available_cars(self):\n",
    "        return list(filter(lambda item:item[5]==1,self.cars))\n",
    "        \n",
    "       \n",
    "    def let_user_pick(self,item_to_pick):\n",
    "        global selected_brand \n",
    "        global selected_model\n",
    "        global selected_year\n",
    "        # match is supported in Python 10, so I need to update Python in order to use it\n",
    "        #match item_to_pick:\n",
    "        #   case 'make':\n",
    "        #       print(\"make\")\n",
    "        #    case 'model':\n",
    "        #        print(\"model\")\n",
    "        #    case 'year':\n",
    "        #        print(\"year\")\n",
    "        if item_to_pick == 'make':\n",
    "            message = \"Which brand would you like to rent?\"\n",
    "            list_item = 1\n",
    "            list_of_available_cars_by_item = list((filter(lambda item:item[5]==1,self.cars)))\n",
    "            \n",
    "            \n",
    "        elif item_to_pick == 'model':\n",
    "            message = \"Which model would you like to rent?\"\n",
    "            list_item = 2\n",
    "            list_of_available_cars_by_item = list((filter(lambda item:item[5]==1 and item[1]==selected_brand ,self.cars)))\n",
    "\n",
    "        else:\n",
    "            message = (\"Please choose the year?\")\n",
    "            list_item = 3\n",
    "            list_of_available_cars_by_item = list((filter(lambda item:item[5]==1 and item[1]==selected_brand and item[2]==selected_model,self.cars)))\n",
    "   \n",
    "        print(message)\n",
    "          \n",
    "        list_of_available_cars = list((filter(lambda item:item[5]==1,self.cars)))\n",
    "        items_to_choose = set([item[list_item] for item in list_of_available_cars_by_item])\n",
    "         \n",
    "        for id,val in enumerate(items_to_choose):\n",
    "            print(\"{}.{}\".format(id,val))\n",
    "            \n",
    "        users_answer=999999   \n",
    "\n",
    "        while users_answer > len(items_to_choose)-1 or  users_answer < 0 :\n",
    "            users_answer = int(input(\"Please pick from the list: \"))\n",
    "\n",
    "        if item_to_pick == 'make':\n",
    "            selected_brand = list(items_to_choose)[users_answer]\n",
    "            \n",
    "        elif item_to_pick == 'model':\n",
    "            selected_model = list(items_to_choose)[users_answer]\n",
    "        else:\n",
    "            selected_year = list(items_to_choose)[users_answer]\n",
    "            \n",
    "       #print(list(items_to_choose)[users_answer])\n",
    "\n",
    "        \n",
    "        \n",
    "    def display_available_cars_for_rent(self):\n",
    "        import inquirer as iq\n",
    "        \n",
    "        questions = [iq.List('make' , message = \"Which brand would you like to rent?\" , choices=['22','33'])]\n",
    "        answers = iq.prompt(questions)\n",
    "        print(answers[\"make\"])\n",
    "        \n",
    "class rental_system:\n",
    "    pass\n",
    "\n",
    "class employee:\n",
    "    pass"
   ]
  },
  {
   "cell_type": "code",
   "execution_count": 13,
   "id": "998dae47",
   "metadata": {},
   "outputs": [],
   "source": [
    "CarsForRent = car()\n",
    "CarsForRent.add_cars('Toyota','Lexux',2020,35000,5)\n",
    "CarsForRent.add_cars('Toyota','Lexux',2021,37000,4)\n",
    "CarsForRent.add_cars('Toyota','Lexux',2022,41000,5)\n",
    "CarsForRent.add_cars('Toyota','CHR',2019,32000,1)\n",
    "CarsForRent.add_cars('Toyota','CHR',2022,34000,10)\n",
    "CarsForRent.add_cars('Toyota','CHR',2023,36000,12)\n",
    "CarsForRent.add_cars('Toyota','Corolla',2020,32000,3)\n",
    "CarsForRent.add_cars('Toyota','Corolla',2020,34000,3)\n",
    "CarsForRent.add_cars('Toyota','Venza',2021,35000,5)\n",
    "CarsForRent.add_cars('Toyota','Venza',2022,40000,5)\n",
    "\n",
    "CarsForRent.add_cars('Mazda','Mazda3',2018,28000,12)\n",
    "CarsForRent.add_cars('Mazda','Mazda3',2019,32000,5)\n",
    "CarsForRent.add_cars('Mazda','CX5',2020,38000,2)\n",
    "CarsForRent.add_cars('Mazda','CX5',2021,40000,3)\n",
    "\n",
    "CarsForRent.add_cars('Honda','Civic',2018,28000,12)\n",
    "CarsForRent.add_cars('Honda','Civic',2019,32000,5)\n",
    "CarsForRent.add_cars('Honda','Accord',2020,38000,10)\n",
    "CarsForRent.add_cars('Honda','Accord',2021,40000,15)"
   ]
  },
  {
   "cell_type": "code",
   "execution_count": 14,
   "id": "4874474e",
   "metadata": {},
   "outputs": [
    {
     "name": "stdout",
     "output_type": "stream",
     "text": [
      "Which brand would you like to rent?\n",
      "0.Toyota\n",
      "1.Honda\n",
      "2.Mazda\n",
      "Please pick from the list: 2\n",
      "Which model would you like to rent?\n",
      "0.CX5\n",
      "1.Mazda3\n",
      "Please pick from the list: 0\n",
      "Please choose the year?\n",
      "0.2020\n",
      "1.2021\n",
      "Please pick from the list: 1\n"
     ]
    }
   ],
   "source": [
    "CarsForRent.let_user_pick('make')\n",
    "CarsForRent.let_user_pick('model')\n",
    "CarsForRent.let_user_pick('year')"
   ]
  },
  {
   "cell_type": "code",
   "execution_count": null,
   "id": "aa5d9806",
   "metadata": {},
   "outputs": [],
   "source": [
    "CarsForRent.let_user_pick('make')"
   ]
  },
  {
   "cell_type": "code",
   "execution_count": 20,
   "id": "a2ce79de",
   "metadata": {},
   "outputs": [],
   "source": [
    "l = list((filter(lambda item: item[1]==\"Honda\" ,CarsForRent.cars)))"
   ]
  },
  {
   "cell_type": "code",
   "execution_count": 21,
   "id": "72614eb3",
   "metadata": {},
   "outputs": [
    {
     "data": {
      "text/plain": [
       "[(76, 'Honda', 'Civic', 2018, 28000, 1),\n",
       " (77, 'Honda', 'Civic', 2018, 28000, 1),\n",
       " (78, 'Honda', 'Civic', 2018, 28000, 1),\n",
       " (79, 'Honda', 'Civic', 2018, 28000, 1),\n",
       " (80, 'Honda', 'Civic', 2018, 28000, 1),\n",
       " (81, 'Honda', 'Civic', 2018, 28000, 1),\n",
       " (82, 'Honda', 'Civic', 2018, 28000, 1),\n",
       " (83, 'Honda', 'Civic', 2018, 28000, 1),\n",
       " (84, 'Honda', 'Civic', 2018, 28000, 1),\n",
       " (85, 'Honda', 'Civic', 2018, 28000, 1),\n",
       " (86, 'Honda', 'Civic', 2018, 28000, 1),\n",
       " (87, 'Honda', 'Civic', 2018, 28000, 1),\n",
       " (88, 'Honda', 'Civic', 2019, 32000, 1),\n",
       " (89, 'Honda', 'Civic', 2019, 32000, 1),\n",
       " (90, 'Honda', 'Civic', 2019, 32000, 1),\n",
       " (91, 'Honda', 'Civic', 2019, 32000, 1),\n",
       " (92, 'Honda', 'Civic', 2019, 32000, 1),\n",
       " (93, 'Honda', 'Accord', 2020, 38000, 1),\n",
       " (94, 'Honda', 'Accord', 2020, 38000, 1),\n",
       " (95, 'Honda', 'Accord', 2020, 38000, 1),\n",
       " (96, 'Honda', 'Accord', 2020, 38000, 1),\n",
       " (97, 'Honda', 'Accord', 2020, 38000, 1),\n",
       " (98, 'Honda', 'Accord', 2020, 38000, 1),\n",
       " (99, 'Honda', 'Accord', 2020, 38000, 1),\n",
       " (100, 'Honda', 'Accord', 2020, 38000, 1),\n",
       " (101, 'Honda', 'Accord', 2020, 38000, 1),\n",
       " (102, 'Honda', 'Accord', 2020, 38000, 1),\n",
       " (103, 'Honda', 'Accord', 2021, 40000, 1),\n",
       " (104, 'Honda', 'Accord', 2021, 40000, 1),\n",
       " (105, 'Honda', 'Accord', 2021, 40000, 1),\n",
       " (106, 'Honda', 'Accord', 2021, 40000, 1),\n",
       " (107, 'Honda', 'Accord', 2021, 40000, 1),\n",
       " (108, 'Honda', 'Accord', 2021, 40000, 1),\n",
       " (109, 'Honda', 'Accord', 2021, 40000, 1),\n",
       " (110, 'Honda', 'Accord', 2021, 40000, 1),\n",
       " (111, 'Honda', 'Accord', 2021, 40000, 1),\n",
       " (112, 'Honda', 'Accord', 2021, 40000, 1),\n",
       " (113, 'Honda', 'Accord', 2021, 40000, 1),\n",
       " (114, 'Honda', 'Accord', 2021, 40000, 1),\n",
       " (115, 'Honda', 'Accord', 2021, 40000, 1),\n",
       " (116, 'Honda', 'Accord', 2021, 40000, 1),\n",
       " (117, 'Honda', 'Accord', 2021, 40000, 1)]"
      ]
     },
     "execution_count": 21,
     "metadata": {},
     "output_type": "execute_result"
    }
   ],
   "source": [
    "l"
   ]
  },
  {
   "cell_type": "code",
   "execution_count": 44,
   "id": "11b14b5a",
   "metadata": {},
   "outputs": [],
   "source": [
    "first_elemt = [x[1] for x in l ]"
   ]
  },
  {
   "cell_type": "code",
   "execution_count": 60,
   "id": "9a9b4c8f",
   "metadata": {},
   "outputs": [
    {
     "ename": "TypeError",
     "evalue": "'set' object is not callable",
     "output_type": "error",
     "traceback": [
      "\u001b[1;31m---------------------------------------------------------------------------\u001b[0m",
      "\u001b[1;31mTypeError\u001b[0m                                 Traceback (most recent call last)",
      "\u001b[1;32m~\\AppData\\Local\\Temp\\ipykernel_15060\\1242402134.py\u001b[0m in \u001b[0;36m<module>\u001b[1;34m\u001b[0m\n\u001b[1;32m----> 1\u001b[1;33m \u001b[0mset\u001b[0m\u001b[1;33m(\u001b[0m\u001b[0mfirst_elemt\u001b[0m\u001b[1;33m)\u001b[0m\u001b[1;33m(\u001b[0m\u001b[1;36m1\u001b[0m\u001b[1;33m)\u001b[0m\u001b[1;33m\u001b[0m\u001b[1;33m\u001b[0m\u001b[0m\n\u001b[0m",
      "\u001b[1;31mTypeError\u001b[0m: 'set' object is not callable"
     ]
    }
   ],
   "source": [
    "set(first_elemt)(1)"
   ]
  },
  {
   "cell_type": "code",
   "execution_count": 30,
   "id": "5ae710c5",
   "metadata": {},
   "outputs": [
    {
     "ename": "SyntaxError",
     "evalue": "invalid syntax (980542762.py, line 2)",
     "output_type": "error",
     "traceback": [
      "\u001b[1;36m  File \u001b[1;32m\"C:\\Users\\M\\AppData\\Local\\Temp\\ipykernel_21596\\980542762.py\"\u001b[1;36m, line \u001b[1;32m2\u001b[0m\n\u001b[1;33m    match item:\u001b[0m\n\u001b[1;37m          ^\u001b[0m\n\u001b[1;31mSyntaxError\u001b[0m\u001b[1;31m:\u001b[0m invalid syntax\n"
     ]
    }
   ],
   "source": [
    "def itemspicking(item):\n",
    "    match item:\n",
    "        case 1:\n",
    "            print(\"1\")\n",
    "        case 2:\n",
    "            print(\"2\")"
   ]
  },
  {
   "cell_type": "code",
   "execution_count": 32,
   "id": "f16c0a06",
   "metadata": {},
   "outputs": [
    {
     "data": {
      "text/plain": [
       "'3.9.13 (main, Aug 25 2022, 23:51:50) [MSC v.1916 64 bit (AMD64)]'"
      ]
     },
     "execution_count": 32,
     "metadata": {},
     "output_type": "execute_result"
    }
   ],
   "source": [
    "import sys \n",
    "sys.version"
   ]
  },
  {
   "cell_type": "code",
   "execution_count": 33,
   "id": "6619781c",
   "metadata": {},
   "outputs": [
    {
     "ename": "SyntaxError",
     "evalue": "invalid syntax (2184686115.py, line 2)",
     "output_type": "error",
     "traceback": [
      "\u001b[1;36m  File \u001b[1;32m\"C:\\Users\\M\\AppData\\Local\\Temp\\ipykernel_21596\\2184686115.py\"\u001b[1;36m, line \u001b[1;32m2\u001b[0m\n\u001b[1;33m    match http_code:\u001b[0m\n\u001b[1;37m          ^\u001b[0m\n\u001b[1;31mSyntaxError\u001b[0m\u001b[1;31m:\u001b[0m invalid syntax\n"
     ]
    }
   ],
   "source": [
    "http_code = \"418\"\n",
    "match http_code:\n",
    "    case \"200\":\n",
    "        print(\"OK\")\n",
    "        do_something_good()\n",
    "    case \"404\":\n",
    "        print(\"Not Found\")\n",
    "        do_something_bad()\n",
    "    case \"418\":\n",
    "        print(\"I'm a teapot\")\n",
    "        make_coffee()\n",
    "    case _:\n",
    "        print(\"Code not found\")"
   ]
  },
  {
   "cell_type": "code",
   "execution_count": null,
   "id": "7f5e8714",
   "metadata": {},
   "outputs": [],
   "source": [
    "match "
   ]
  }
 ],
 "metadata": {
  "kernelspec": {
   "display_name": "Python 3 (ipykernel)",
   "language": "python",
   "name": "python3"
  },
  "language_info": {
   "codemirror_mode": {
    "name": "ipython",
    "version": 3
   },
   "file_extension": ".py",
   "mimetype": "text/x-python",
   "name": "python",
   "nbconvert_exporter": "python",
   "pygments_lexer": "ipython3",
   "version": "3.9.13"
  }
 },
 "nbformat": 4,
 "nbformat_minor": 5
}
