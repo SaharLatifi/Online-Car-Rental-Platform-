{
 "cells": [
  {
   "cell_type": "code",
   "execution_count": 18,
   "id": "8362d7b2",
   "metadata": {},
   "outputs": [],
   "source": [
    "class customer:\n",
    "    pass\n",
    "\n",
    "class car:\n",
    "    global car_index \n",
    "    car_index = 1\n",
    "    \n",
    "    # constructor: this is a type of function that gets executed implicitly while the object creation\n",
    "    \n",
    "    def __init__(self):\n",
    "        self.cars = list()\n",
    "        \n",
    "        \n",
    "    # status=1 : Car is available , 0 : Car is not available\n",
    "    # number_of_cars : the number of cars to add , default = 1 \n",
    "    def add_cars(self,make,model,year,price,status,numberofcars=1):\n",
    "        global car_index \n",
    "\n",
    "        ## car_id calculates from 1 for each car object \n",
    "        ##if len(self.cars) == 0 :\n",
    "        ##    car_id = 1\n",
    "        ##else:\n",
    "        ##    car_id = max(self.cars,key=lambda item:item[0]) [0] + 1 \n",
    "       \n",
    "        \n",
    "        for i in range(numberofcars):\n",
    "            self.cars.append((car_index,make,model,year,price,status))   \n",
    "            car_index = car_index + 1\n",
    "    \n",
    "    \n",
    "    ## Display all cars\n",
    "    def display_all_cars(self):\n",
    "        return self.cars\n",
    "    \n",
    "    ## Display those which are available - not rented\n",
    "    def display_available_cars(self):\n",
    "        stock = len(self.cars)\n",
    "        if stock == 0 :\n",
    "            print(\"Sorry! We don't have any cars availabale.\")\n",
    "        else:\n",
    "            print(\"Currently we have {} cars available to rent.\".format(stock))\n",
    "            return list(filter(lambda item:item[5]==1,self.cars))\n",
    "            print(stock)\n",
    "        \n",
    "class rental_system:\n",
    "    pass\n",
    "\n",
    "class employee:\n",
    "    pass\n",
    "\n",
    "class customer:\n",
    "    pass\n",
    "\n"
   ]
  },
  {
   "cell_type": "code",
   "execution_count": 20,
   "id": "1639768d",
   "metadata": {},
   "outputs": [],
   "source": [
    "toyota = car()\n",
    "toyota.add_cars('Toyota','Lexux',2018,28000,1)\n",
    "toyota.add_cars('Toyota','Lexux',2019,32000,1)\n",
    "toyota.add_cars('Toyota','Lexux',2020,38000,1,3)\n",
    "toyota.add_cars('Toyota','Lexux',2021,40000,1,5)\n",
    "\n",
    "mazda = car()\n",
    "mazda.add_cars('mazda','mazda3',2022,28000,1)\n",
    "mazda.add_cars('mazda','mazda7',2023,45000,1,7)"
   ]
  },
  {
   "cell_type": "code",
   "execution_count": 21,
   "id": "5bfb037a",
   "metadata": {},
   "outputs": [
    {
     "name": "stdout",
     "output_type": "stream",
     "text": [
      "Currently we have 10 cars available to rent\n"
     ]
    },
    {
     "data": {
      "text/plain": [
       "[(1, 'Toyota', 'Lexux', 2018, 28000, 1),\n",
       " (2, 'Toyota', 'Lexux', 2019, 32000, 1),\n",
       " (3, 'Toyota', 'Lexux', 2020, 38000, 1),\n",
       " (4, 'Toyota', 'Lexux', 2020, 38000, 1),\n",
       " (5, 'Toyota', 'Lexux', 2020, 38000, 1),\n",
       " (6, 'Toyota', 'Lexux', 2021, 40000, 1),\n",
       " (7, 'Toyota', 'Lexux', 2021, 40000, 1),\n",
       " (8, 'Toyota', 'Lexux', 2021, 40000, 1),\n",
       " (9, 'Toyota', 'Lexux', 2021, 40000, 1),\n",
       " (10, 'Toyota', 'Lexux', 2021, 40000, 1)]"
      ]
     },
     "execution_count": 21,
     "metadata": {},
     "output_type": "execute_result"
    }
   ],
   "source": [
    "toyota.display_all_cars()\n",
    "toyota.display_available_cars()"
   ]
  },
  {
   "cell_type": "code",
   "execution_count": 8,
   "id": "5846a93e",
   "metadata": {},
   "outputs": [
    {
     "data": {
      "text/plain": [
       "10"
      ]
     },
     "execution_count": 8,
     "metadata": {},
     "output_type": "execute_result"
    }
   ],
   "source": [
    "len(toyota.cars)"
   ]
  },
  {
   "cell_type": "code",
   "execution_count": 19,
   "id": "1e36efbd",
   "metadata": {},
   "outputs": [
    {
     "name": "stdout",
     "output_type": "stream",
     "text": [
      "Sorry! We don't have any cars availabale.\n"
     ]
    }
   ],
   "source": [
    "toyota1=car()\n",
    "toyota1.display_all_cars()\n",
    "toyota1.display_available_cars()"
   ]
  },
  {
   "cell_type": "code",
   "execution_count": null,
   "id": "72b8f7bf",
   "metadata": {},
   "outputs": [],
   "source": []
  }
 ],
 "metadata": {
  "kernelspec": {
   "display_name": "Python 3 (ipykernel)",
   "language": "python",
   "name": "python3"
  },
  "language_info": {
   "codemirror_mode": {
    "name": "ipython",
    "version": 3
   },
   "file_extension": ".py",
   "mimetype": "text/x-python",
   "name": "python",
   "nbconvert_exporter": "python",
   "pygments_lexer": "ipython3",
   "version": "3.9.13"
  }
 },
 "nbformat": 4,
 "nbformat_minor": 5
}
