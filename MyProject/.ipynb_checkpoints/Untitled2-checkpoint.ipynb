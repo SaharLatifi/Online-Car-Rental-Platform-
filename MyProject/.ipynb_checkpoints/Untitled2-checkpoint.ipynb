{
 "cells": [
  {
   "cell_type": "code",
   "execution_count": 100,
   "id": "5540b354",
   "metadata": {},
   "outputs": [],
   "source": [
    "class customer:\n",
    "    pass\n",
    "\n",
    "class car:\n",
    "    global car_index \n",
    "    car_index = 1\n",
    "    \n",
    "    # constructor: this is a type of function that gets executed implicitly while the object creation\n",
    "    \n",
    "    def __init__(self):\n",
    "        self.cars = list()\n",
    "        \n",
    "        \n",
    "    # status=1 : Car is available , 0 : Car is not available\n",
    "    # number_of_cars : the number of cars to add , default = 1 \n",
    "    def add_cars(self,make,model,year,price,status,numberofcars=1):\n",
    "        global car_index \n",
    "\n",
    "        if len(self.cars) == 0 :\n",
    "            car_id = 1\n",
    "        else:\n",
    "            car_id = max(self.cars,key=lambda item:item[0]) [0] + 1 \n",
    "       \n",
    "        for i in range(car_id , numberofcars+car_id): \n",
    "            self.cars.append((car_index,make,model,year,price,status))   \n",
    "            car_index = car_index + 1\n",
    "    \n",
    "    \n",
    "    ## Display all cars\n",
    "    def display_all_cars(self):\n",
    "        return self.cars\n",
    "    \n",
    "    ## Display those which are available - not rented\n",
    "    def display_available_cars(self):\n",
    "        return list(filter(lambda item:item[5]==1,self.cars))\n",
    "        \n",
    "class rental_system:\n",
    "    pass\n",
    "\n",
    "class employee:\n",
    "    pass"
   ]
  },
  {
   "cell_type": "code",
   "execution_count": 97,
   "id": "8b8f495d",
   "metadata": {},
   "outputs": [],
   "source": [
    "toyota = car()\n",
    "toyota.add_cars('Toyota','Lexux',2018,28000,0)\n",
    "toyota.add_cars('Toyota','Lexux',2019,32000,0)\n",
    "toyota.add_cars('Toyota','Lexux',2020,38000,1,3)\n",
    "toyota.add_cars('Toyota','Lexux',2021,40000,1,5)"
   ]
  },
  {
   "cell_type": "code",
   "execution_count": 98,
   "id": "6cecd40f",
   "metadata": {},
   "outputs": [
    {
     "data": {
      "text/plain": [
       "[(3, 'Toyota', 'Lexux', 2020, 38000, 1),\n",
       " (4, 'Toyota', 'Lexux', 2020, 38000, 1),\n",
       " (5, 'Toyota', 'Lexux', 2020, 38000, 1),\n",
       " (6, 'Toyota', 'Lexux', 2021, 40000, 1),\n",
       " (7, 'Toyota', 'Lexux', 2021, 40000, 1),\n",
       " (8, 'Toyota', 'Lexux', 2021, 40000, 1),\n",
       " (9, 'Toyota', 'Lexux', 2021, 40000, 1),\n",
       " (10, 'Toyota', 'Lexux', 2021, 40000, 1)]"
      ]
     },
     "execution_count": 98,
     "metadata": {},
     "output_type": "execute_result"
    }
   ],
   "source": [
    "toyota.display_available_cars()"
   ]
  },
  {
   "cell_type": "code",
   "execution_count": 99,
   "id": "49ccdccb",
   "metadata": {},
   "outputs": [
    {
     "data": {
      "text/plain": [
       "[(1, 'Toyota', 'Lexux', 2018, 28000, 0),\n",
       " (2, 'Toyota', 'Lexux', 2019, 32000, 0),\n",
       " (3, 'Toyota', 'Lexux', 2020, 38000, 1),\n",
       " (4, 'Toyota', 'Lexux', 2020, 38000, 1),\n",
       " (5, 'Toyota', 'Lexux', 2020, 38000, 1),\n",
       " (6, 'Toyota', 'Lexux', 2021, 40000, 1),\n",
       " (7, 'Toyota', 'Lexux', 2021, 40000, 1),\n",
       " (8, 'Toyota', 'Lexux', 2021, 40000, 1),\n",
       " (9, 'Toyota', 'Lexux', 2021, 40000, 1),\n",
       " (10, 'Toyota', 'Lexux', 2021, 40000, 1)]"
      ]
     },
     "execution_count": 99,
     "metadata": {},
     "output_type": "execute_result"
    }
   ],
   "source": [
    "toyota.display_all_cars()"
   ]
  },
  {
   "cell_type": "code",
   "execution_count": 68,
   "id": "b460f108",
   "metadata": {},
   "outputs": [],
   "source": [
    "mazda = car()\n",
    "mazda.add_cars('mazda','mazda3',2022,33000,0,2)\n",
    "mazda.add_cars('mazda','mazda7',2023,22000,0,2)"
   ]
  },
  {
   "cell_type": "code",
   "execution_count": 71,
   "id": "26cbd851",
   "metadata": {},
   "outputs": [
    {
     "data": {
      "text/plain": [
       "[(30, 'mazda', 'mazda3', 2022, 33000, 0),\n",
       " (31, 'mazda', 'mazda3', 2022, 33000, 0),\n",
       " (32, 'mazda', 'mazda7', 2023, 22000, 0),\n",
       " (33, 'mazda', 'mazda7', 2023, 22000, 0),\n",
       " (34, 'mazda', 'mazda3', 2022, 28000, 1),\n",
       " (35, 'mazda', 'mazda7', 2023, 55000, 1),\n",
       " (36, 'mazda', 'mazda7', 2023, 55000, 1)]"
      ]
     },
     "execution_count": 71,
     "metadata": {},
     "output_type": "execute_result"
    }
   ],
   "source": [
    "mazda.cars"
   ]
  },
  {
   "cell_type": "code",
   "execution_count": 75,
   "id": "dbd0cfb6",
   "metadata": {},
   "outputs": [],
   "source": [
    " c = filter(lambda x:x[5]==0,mazda.cars)"
   ]
  },
  {
   "cell_type": "code",
   "execution_count": 74,
   "id": "32dcd2d1",
   "metadata": {},
   "outputs": [
    {
     "data": {
      "text/plain": [
       "filter"
      ]
     },
     "execution_count": 74,
     "metadata": {},
     "output_type": "execute_result"
    }
   ],
   "source": [
    "type(c)"
   ]
  },
  {
   "cell_type": "code",
   "execution_count": 76,
   "id": "d777db69",
   "metadata": {},
   "outputs": [
    {
     "data": {
      "text/plain": [
       "[(30, 'mazda', 'mazda3', 2022, 33000, 0),\n",
       " (31, 'mazda', 'mazda3', 2022, 33000, 0),\n",
       " (32, 'mazda', 'mazda7', 2023, 22000, 0),\n",
       " (33, 'mazda', 'mazda7', 2023, 22000, 0)]"
      ]
     },
     "execution_count": 76,
     "metadata": {},
     "output_type": "execute_result"
    }
   ],
   "source": [
    "list(c)"
   ]
  },
  {
   "cell_type": "code",
   "execution_count": null,
   "id": "c5384a26",
   "metadata": {},
   "outputs": [],
   "source": []
  }
 ],
 "metadata": {
  "kernelspec": {
   "display_name": "Python 3 (ipykernel)",
   "language": "python",
   "name": "python3"
  },
  "language_info": {
   "codemirror_mode": {
    "name": "ipython",
    "version": 3
   },
   "file_extension": ".py",
   "mimetype": "text/x-python",
   "name": "python",
   "nbconvert_exporter": "python",
   "pygments_lexer": "ipython3",
   "version": "3.9.13"
  }
 },
 "nbformat": 4,
 "nbformat_minor": 5
}
