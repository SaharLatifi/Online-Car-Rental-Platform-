{
 "cells": [
  {
   "cell_type": "code",
   "execution_count": 139,
   "id": "a601bffa",
   "metadata": {},
   "outputs": [],
   "source": [
    "class customer:\n",
    "    pass\n",
    "\n",
    "class car:\n",
    "    \n",
    "    # constructor: this is a type of function that gets executed implicitly while the object creation\n",
    "    def __init__(self):\n",
    "        self.cars = list()\n",
    "    \n",
    "    \n",
    "    # status=1 : Car is available , 0 : Car is not available\n",
    "    # number_of_cars : the number of cars to add , default = 1 \n",
    "    def add_cars(self,make,model,year,price,status,number_of_cars=1):\n",
    "        if len(self.cars) == 0 :\n",
    "            car_id = 1\n",
    "        else:\n",
    "            car_id = max(self.cars,key=lambda item:item[0]) [0] + 1 \n",
    "       \n",
    "        for i in range(car_id , number_of_cars + car_id): \n",
    "            self.cars.append((i,make,model,year,price,status))   \n",
    "            \n",
    "        \n",
    "    def display_available_cars(self):\n",
    "        return self.cars\n",
    "    def display_available_cars(self):\n",
    "        return self.cars\n",
    "        \n",
    "class rental_system:\n",
    "    pass\n",
    "\n",
    "class employee:\n",
    "    pass"
   ]
  },
  {
   "cell_type": "code",
   "execution_count": 135,
   "id": "15b0bf2d",
   "metadata": {},
   "outputs": [],
   "source": [
    "toyota = car()\n"
   ]
  },
  {
   "cell_type": "code",
   "execution_count": 136,
   "id": "3e938d14",
   "metadata": {},
   "outputs": [],
   "source": [
    "toyota.add_car('Toyota','Corona',2022,28000,1)\n",
    "toyota.add_car('Toyota','Lexux',2023,32000,1)\n",
    "toyota.add_car('Toyota','Lexux',2021,38000,1)\n",
    "toyota.add_car('Toyota','Corona',2021,40000,1)\n"
   ]
  },
  {
   "cell_type": "code",
   "execution_count": 140,
   "id": "2a01eacb",
   "metadata": {},
   "outputs": [],
   "source": [
    "mazda = car()\n",
    "mazdacar1=['mazda','mazda3',2022,28000]\n",
    "mazdacar2=['mazda','mazda7',2023,45000]"
   ]
  },
  {
   "cell_type": "code",
   "execution_count": 141,
   "id": "5f93435c",
   "metadata": {},
   "outputs": [
    {
     "ename": "TypeError",
     "evalue": "can only concatenate str (not \"int\") to str",
     "output_type": "error",
     "traceback": [
      "\u001b[1;31m---------------------------------------------------------------------------\u001b[0m",
      "\u001b[1;31mTypeError\u001b[0m                                 Traceback (most recent call last)",
      "\u001b[1;32m~\\AppData\\Local\\Temp\\ipykernel_26548\\3886599497.py\u001b[0m in \u001b[0;36m<module>\u001b[1;34m\u001b[0m\n\u001b[0;32m      1\u001b[0m \u001b[0mmazda\u001b[0m\u001b[1;33m.\u001b[0m\u001b[0madd_cars\u001b[0m\u001b[1;33m(\u001b[0m\u001b[0mmazdacar1\u001b[0m\u001b[1;33m)\u001b[0m\u001b[1;33m\u001b[0m\u001b[1;33m\u001b[0m\u001b[0m\n\u001b[1;32m----> 2\u001b[1;33m \u001b[0mmazda\u001b[0m\u001b[1;33m.\u001b[0m\u001b[0madd_cars\u001b[0m\u001b[1;33m(\u001b[0m\u001b[0mmazdacar2\u001b[0m\u001b[1;33m)\u001b[0m\u001b[1;33m\u001b[0m\u001b[1;33m\u001b[0m\u001b[0m\n\u001b[0m",
      "\u001b[1;32m~\\AppData\\Local\\Temp\\ipykernel_26548\\3210387842.py\u001b[0m in \u001b[0;36madd_cars\u001b[1;34m(self, cars)\u001b[0m\n\u001b[0;32m     23\u001b[0m             \u001b[0mcar_id\u001b[0m \u001b[1;33m=\u001b[0m \u001b[1;36m1\u001b[0m\u001b[1;33m\u001b[0m\u001b[1;33m\u001b[0m\u001b[0m\n\u001b[0;32m     24\u001b[0m         \u001b[1;32melse\u001b[0m\u001b[1;33m:\u001b[0m\u001b[1;33m\u001b[0m\u001b[1;33m\u001b[0m\u001b[0m\n\u001b[1;32m---> 25\u001b[1;33m             \u001b[0mcar_id\u001b[0m \u001b[1;33m=\u001b[0m \u001b[0mmax\u001b[0m\u001b[1;33m(\u001b[0m\u001b[0mself\u001b[0m\u001b[1;33m.\u001b[0m\u001b[0mcars\u001b[0m\u001b[1;33m,\u001b[0m\u001b[0mkey\u001b[0m\u001b[1;33m=\u001b[0m\u001b[1;32mlambda\u001b[0m \u001b[0mitem\u001b[0m\u001b[1;33m:\u001b[0m\u001b[0mitem\u001b[0m\u001b[1;33m[\u001b[0m\u001b[1;36m0\u001b[0m\u001b[1;33m]\u001b[0m\u001b[1;33m)\u001b[0m \u001b[1;33m[\u001b[0m\u001b[1;36m0\u001b[0m\u001b[1;33m]\u001b[0m \u001b[1;33m+\u001b[0m \u001b[1;36m1\u001b[0m\u001b[1;33m\u001b[0m\u001b[1;33m\u001b[0m\u001b[0m\n\u001b[0m\u001b[0;32m     26\u001b[0m         \u001b[0mself\u001b[0m\u001b[1;33m.\u001b[0m\u001b[0mcars\u001b[0m\u001b[1;33m.\u001b[0m\u001b[0mappend\u001b[0m\u001b[1;33m(\u001b[0m\u001b[0mcars\u001b[0m\u001b[1;33m)\u001b[0m\u001b[1;33m\u001b[0m\u001b[1;33m\u001b[0m\u001b[0m\n\u001b[0;32m     27\u001b[0m \u001b[1;33m\u001b[0m\u001b[0m\n",
      "\u001b[1;31mTypeError\u001b[0m: can only concatenate str (not \"int\") to str"
     ]
    }
   ],
   "source": [
    "mazda.add_cars(mazdacar1)\n",
    "mazda.add_cars(mazdacar2)"
   ]
  },
  {
   "cell_type": "code",
   "execution_count": 27,
   "id": "cef1eea3",
   "metadata": {},
   "outputs": [
    {
     "ename": "TypeError",
     "evalue": "object of type 'car' has no len()",
     "output_type": "error",
     "traceback": [
      "\u001b[1;31m---------------------------------------------------------------------------\u001b[0m",
      "\u001b[1;31mTypeError\u001b[0m                                 Traceback (most recent call last)",
      "\u001b[1;32m~\\AppData\\Local\\Temp\\ipykernel_26548\\1429677910.py\u001b[0m in \u001b[0;36m<module>\u001b[1;34m\u001b[0m\n\u001b[1;32m----> 1\u001b[1;33m \u001b[0mlen\u001b[0m\u001b[1;33m(\u001b[0m\u001b[0mtoyota\u001b[0m\u001b[1;33m)\u001b[0m\u001b[1;33m\u001b[0m\u001b[1;33m\u001b[0m\u001b[0m\n\u001b[0m",
      "\u001b[1;31mTypeError\u001b[0m: object of type 'car' has no len()"
     ]
    }
   ],
   "source": [
    "len(toyota)"
   ]
  },
  {
   "cell_type": "code",
   "execution_count": 133,
   "id": "62c07279",
   "metadata": {},
   "outputs": [
    {
     "data": {
      "text/plain": [
       "[(1, 'Toyota', 'Lexux', 2018, 28000, 1),\n",
       " (2, 'Toyota', 'Lexux', 2019, 32000, 1),\n",
       " (3, 'Toyota', 'Lexux', 2020, 38000, 1),\n",
       " (4, 'Toyota', 'Lexux', 2021, 40000, 1),\n",
       " (5, 'Toyota', 'Corona', 2022, 28000, 1),\n",
       " (6, 'Toyota', 'Lexux', 2023, 32000, 1),\n",
       " (7, 'Toyota', 'Lexux', 2021, 38000, 1),\n",
       " (8, 'Toyota', 'Corona', 2021, 40000, 1)]"
      ]
     },
     "execution_count": 133,
     "metadata": {},
     "output_type": "execute_result"
    }
   ],
   "source": [
    "toyota.display_available_cars()"
   ]
  },
  {
   "cell_type": "code",
   "execution_count": 86,
   "id": "8ba4a1ff",
   "metadata": {},
   "outputs": [],
   "source": [
    "   temp = min(toyota.cars,key=lambda item:item[0])"
   ]
  },
  {
   "cell_type": "code",
   "execution_count": 87,
   "id": "9b5daf80",
   "metadata": {},
   "outputs": [
    {
     "data": {
      "text/plain": [
       "(10, 'Toyota', 'Lexux', 2018, 28000)"
      ]
     },
     "execution_count": 87,
     "metadata": {},
     "output_type": "execute_result"
    }
   ],
   "source": [
    "temp\n"
   ]
  },
  {
   "cell_type": "code",
   "execution_count": 142,
   "id": "15eb2bfe",
   "metadata": {},
   "outputs": [
    {
     "data": {
      "text/plain": [
       "[['mazda', 'mazda3', 2022, 28000]]"
      ]
     },
     "execution_count": 142,
     "metadata": {},
     "output_type": "execute_result"
    }
   ],
   "source": [
    "mazda.cars"
   ]
  },
  {
   "cell_type": "code",
   "execution_count": null,
   "id": "faba1d2f",
   "metadata": {},
   "outputs": [],
   "source": []
  }
 ],
 "metadata": {
  "kernelspec": {
   "display_name": "Python 3 (ipykernel)",
   "language": "python",
   "name": "python3"
  },
  "language_info": {
   "codemirror_mode": {
    "name": "ipython",
    "version": 3
   },
   "file_extension": ".py",
   "mimetype": "text/x-python",
   "name": "python",
   "nbconvert_exporter": "python",
   "pygments_lexer": "ipython3",
   "version": "3.9.13"
  }
 },
 "nbformat": 4,
 "nbformat_minor": 5
}
